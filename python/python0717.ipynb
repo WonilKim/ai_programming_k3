{
 "cells": [
  {
   "cell_type": "code",
   "execution_count": 2,
   "metadata": {},
   "outputs": [],
   "source": [
    "import random\n",
    "import string\n",
    "\n",
    "alpha = string.ascii_lowercase\n",
    "\n"
   ]
  },
  {
   "cell_type": "code",
   "execution_count": 4,
   "metadata": {},
   "outputs": [
    {
     "name": "stdout",
     "output_type": "stream",
     "text": [
      "head: 49\n"
     ]
    }
   ],
   "source": [
    "cnt = 0\n",
    "for _ in range(100):\n",
    "    if random.random() > 0.5:\n",
    "        cnt += 1\n",
    "\n",
    "print('head: {}'.format(cnt))"
   ]
  },
  {
   "cell_type": "code",
   "execution_count": null,
   "metadata": {},
   "outputs": [],
   "source": [
    "def isAlpha(L):\n",
    "    ## Determine whether list of lowercase words is in\n",
    "    ## alphabetical order.\n",
    "    for i in range(len(L) - 1):\n",
    "        if L[i] > L[i + 1]:\n",
    "            return False\n",
    "    return True"
   ]
  },
  {
   "cell_type": "code",
   "execution_count": null,
   "metadata": {},
   "outputs": [],
   "source": [
    "def isAlphaRecur(L, n):\n",
    "    if n + 1 >= len(L):\n",
    "        return\n",
    "    \n",
    "    if ord(L[n]) < ord(L[n + 1]):\n",
    "        isAlphaRecur(L, n + 1)\n",
    "\n",
    "        "
   ]
  },
  {
   "cell_type": "code",
   "execution_count": null,
   "metadata": {},
   "outputs": [],
   "source": [
    "def isAlphaRecursion(L):\n",
    "    if len(L) <= 1:\n",
    "        return True\n",
    "    elif "
   ]
  },
  {
   "cell_type": "code",
   "execution_count": null,
   "metadata": {},
   "outputs": [],
   "source": [
    "def displaySequenceOfNumbersRecursion(m, n):\n",
    "    if m > n:\n",
    "        return\n",
    "    elif m == n:\n",
    "        print(m, end=' ')\n",
    "    else:\n",
    "        print(m, end=' ')\n",
    "        displaySequenceOfNumbersRecursion(m+1, n)"
   ]
  },
  {
   "cell_type": "markdown",
   "metadata": {},
   "source": [
    "분자와 분모에 대한 인스턴스 변수가 있는 Fraction이라는 클래스와 분자와 분모를 최대 공약수로 나누어 파벌을 가장 낮은 용어로 줄이는 메서드를 만듭니다. 두 개의 0이 아닌 정수 mand nis의 최대 공약수를 구하는 코드는 다음과 같습니다. fraction.py 파일에 클래스를 저장합니다.\n",
    "참고: 이 클래스는 연습문제 28과 29에서 사용됩니다."
   ]
  },
  {
   "cell_type": "code",
   "execution_count": null,
   "metadata": {},
   "outputs": [],
   "source": [
    "class Fraction:\n",
    "    def __init__(self, numerator, denominator):\n",
    "        self.numerator = numerator\n",
    "        self.denominator = denominator"
   ]
  },
  {
   "cell_type": "code",
   "execution_count": null,
   "metadata": {},
   "outputs": [],
   "source": [
    "def GCD(m, n): #Greatest Common Divisor\n",
    "    while n != 0:\n",
    "        t = n\n",
    "        n = m % n\n",
    "        m = t\n",
    "    return m"
   ]
  },
  {
   "cell_type": "markdown",
   "metadata": {},
   "source": [
    "사람과 컴퓨터 간의 \"가위바위보\" 3게임 경기를 하는 프로그램을 작성하십시오. 가능한 출력은 아래의 음영 처리된 상자에 표시되어 있으며 동률인 경우 마지막 줄을 \"TIE\"로 변경해야 합니다. 프로그램은 Human 및 Computer라는 두 개의 하위 클래스가 있는 Contestant라는 클래스를 사용해야 합니다. 사람이 선택을 하면 컴퓨터는 무작위로 선택을 해야 합니다. Contestant 클래스에는 이름과 점수에 대한 인스턴스 변수가 있어야 합니다."
   ]
  },
  {
   "cell_type": "code",
   "execution_count": 26,
   "metadata": {},
   "outputs": [
    {
     "name": "stdout",
     "output_type": "stream",
     "text": [
      "** Game  0\n",
      "  Computer =  가위 1\n",
      "  Human =  가위 1\n",
      "  TIE !\n",
      "** Game  1\n",
      "  Computer =  보 3\n",
      "  Human =  바위 2\n",
      "  Computer win !\n",
      "** Game  2\n",
      "  Computer =  보 3\n",
      "  Human =  가위 1\n",
      "  Human win !\n"
     ]
    }
   ],
   "source": [
    "import random\n",
    "\n",
    "class Contestant:\n",
    "    def __init__(self):\n",
    "        self._name = \"\"\n",
    "        self._score = 0\n",
    "\n",
    "    def game(self):\n",
    "        return random.randint(1, 3)\n",
    "        \n",
    "class Human(Contestant):\n",
    "    def __init__(self):\n",
    "        super().__init__()\n",
    "\n",
    "class Computer(Contestant):\n",
    "    def __init__(self):\n",
    "        super().__init__()\n",
    "\n",
    "\n",
    "def main():\n",
    "    com = Computer()\n",
    "    human = Human()\n",
    "\n",
    "    dictGame = {1: '가위', 2: '바위', 3: '보'}\n",
    "\n",
    "    for i in range(3):\n",
    "        comResult = com.game()\n",
    "        humanResult = human.game()\n",
    "\n",
    "        print(\"** Game \", i)\n",
    "        print(\"  Computer = \", dictGame.get(comResult), comResult)\n",
    "        print(\"  Human = \", dictGame.get(humanResult), humanResult)\n",
    "\n",
    "        if(comResult == humanResult):\n",
    "            print(\"  TIE !\")\n",
    "        elif ((comResult + 1) % 3 == humanResult % 3):\n",
    "            print(\"  Human win !\")\n",
    "        elif ((humanResult + 1) % 3 == comResult % 3):\n",
    "            print(\"  Computer win !\")\n",
    "            \n",
    "\n",
    "\n",
    "main()"
   ]
  }
 ],
 "metadata": {
  "kernelspec": {
   "display_name": "python311",
   "language": "python",
   "name": "python3"
  },
  "language_info": {
   "codemirror_mode": {
    "name": "ipython",
    "version": 3
   },
   "file_extension": ".py",
   "mimetype": "text/x-python",
   "name": "python",
   "nbconvert_exporter": "python",
   "pygments_lexer": "ipython3",
   "version": "3.11.4"
  },
  "orig_nbformat": 4
 },
 "nbformat": 4,
 "nbformat_minor": 2
}
