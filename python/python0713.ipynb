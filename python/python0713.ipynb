{
 "cells": [
  {
   "cell_type": "code",
   "execution_count": 1,
   "metadata": {},
   "outputs": [
    {
     "name": "stdout",
     "output_type": "stream",
     "text": [
      "The Gettysburg Address contains 268 words.\n",
      "The Gettysburg Address contains 139 different words.\n",
      "\n",
      "The most common words and their frequencies are: \n",
      " that: 13\n",
      " the: 11\n",
      " we: 10\n",
      " to: 8\n",
      " here: 8\n",
      " a: 7\n",
      " and: 6\n"
     ]
    }
   ],
   "source": [
    "\n",
    "def main():\n",
    "    ## Analyze word frequencies in the Gettysburg Address, \n",
    "    # ## which is written in a single line. \n",
    "    listOfWords = formListOfWords (\"../data/Gettysburg.txt\") \n",
    "    freq = createFrequencyDictionary (listOfWords) \n",
    "    displayWordCount (listOfWords, freq) \n",
    "    displayMostCommonWords (freq)\n",
    "\n",
    "def formListOfWords (fileName):\n",
    "    infile = open (fileName)\n",
    "    originalLine = infile.readline ().lower() \n",
    "    # Remove punctuation marks from the line. \n",
    "    line = \"\"\n",
    "    for ch in originalLine:\n",
    "        if ('a' <= ch <= 'z') or (ch == \" \"): \n",
    "            line += ch\n",
    "    # Place the individual words into a list. \n",
    "    listOfWords = line.split()\n",
    "    return listOfWords\n",
    "\n",
    "def createFrequencyDictionary (listOfWords):\n",
    "    ## Create dictionary with each item having the form ## word: word frequency.\n",
    "    freq = {} # an empty dictionary\n",
    "    for word in listOfWords:\n",
    "        freq[word] = 0\n",
    "\n",
    "    for word in listOfWords:\n",
    "        freq[word] = freq[word] + 1\n",
    "\n",
    "    return freq\n",
    "\n",
    "def displayWordCount (listOfWords, freq):\n",
    "    print(\"The Gettysburg Address contains\", len (listOfWords), \"words.\")\n",
    "    print (\"The Gettysburg Address contains\", len (freq), \"different words.\")\n",
    "    print ()\n",
    "\n",
    "\n",
    "def displayMostCommonWords(freq):\n",
    "    ## Common words are those with frequency > 5. \n",
    "    print(\"The most common words and their frequencies are: \") \n",
    "    listOfMostCommonWords = []\n",
    "    for word in freq.keys():\n",
    "        if freq[word] >= 6:\n",
    "            listOfMostCommonWords.append((word, freq[word]))\n",
    "    listOfMostCommonWords.sort(key=lambda x: x[1], reverse=True)\n",
    "    for item in listOfMostCommonWords:\n",
    "        print(\"\", item [0] + ':', item[1])\n",
    "\n",
    "main ()"
   ]
  },
  {
   "cell_type": "markdown",
   "metadata": {},
   "source": [
    "5. 알파벳 순서 다음 단어는 THIRSTY, NOPE, AFGHANISTAN, STUDENT와 같이 알파벳의 연속 문자이기도 한 세 개의 연속 문자로 구성됩니다. 단어를 입력받아 알파벳의 연속문자인 3개의 연속문자가 있는지 판단하는 프로그램을 작성하시오. 프로그램은 전체 단어를 입력으로 받아들이는 isTripleConsecutive라는 부울 값 함수를 사용해야 합니다.\n",
    "힌트: ord 함수를 사용하세요.\n",
    "\n",
    "단어 입력: HIJACK\n",
    "HIJACK에는 세 개의 연속 문자가 포함됩니다.\n",
    "연속 알파벳 순서로."
   ]
  },
  {
   "cell_type": "code",
   "execution_count": 5,
   "metadata": {},
   "outputs": [
    {
     "name": "stdout",
     "output_type": "stream",
     "text": [
      "True\n",
      "True\n",
      "True\n",
      "True\n",
      "True\n",
      "False\n",
      "False\n"
     ]
    }
   ],
   "source": [
    "def isTripleConsecutive(string):\n",
    "    numList = []\n",
    "    for i in range(len(string)):\n",
    "        numList.append(ord(string[i]))\n",
    "\n",
    "    for i in range(2, len(numList)):\n",
    "        if numList[i - 2] + 2 == numList[i - 1] + 1 == numList[i]:\n",
    "            return True\n",
    "        \n",
    "    return False\n",
    "\n",
    "print(isTripleConsecutive(\"THIRSTY\"))\n",
    "print(isTripleConsecutive(\"NOPE\"))\n",
    "print(isTripleConsecutive(\"AFGHANISTAN\"))\n",
    "print(isTripleConsecutive(\"STUDENT\"))\n",
    "print(isTripleConsecutive(\"HIJACK\"))\n",
    "print(isTripleConsecutive(\"KIMWONIL\"))\n",
    "print(isTripleConsecutive(\"EDCBA\"))\n"
   ]
  },
  {
   "cell_type": "code",
   "execution_count": 23,
   "metadata": {},
   "outputs": [
    {
     "name": "stdout",
     "output_type": "stream",
     "text": [
      "{'inch': 0.083333, 'yard': 3.0, 'meter': 3.28155, 'fathom': 6.0, 'rod': 16.5, 'furlong': 660.0, 'kilometer': 3281.5, 'mile': 5280.0}\n",
      "dict_keys(['inch', 'yard', 'meter', 'fathom', 'rod', 'furlong', 'kilometer', 'mile'])\n",
      "40 inch 1.0157760814249364 meter\n"
     ]
    }
   ],
   "source": [
    "def getDict():\n",
    "    infile = open(\"../data/Units.txt\", \"r\")\n",
    "    dict = {}\n",
    "    for line in infile:\n",
    "        terms = line.split(\"=\")\n",
    "        unit = terms[0].strip().split(\" \")[1].strip()\n",
    "        value = float(terms[1].strip().split(\" \")[0].strip())\n",
    "        dict[unit] = value\n",
    "\n",
    "    return dict\n",
    "\n",
    "def exchange(dict, value, fromUnit, toUnit):\n",
    "    fromFactor = dict.get(fromUnit)\n",
    "    toFactor = dict.get(toUnit)\n",
    "    fromFeet = value * fromFactor\n",
    "    result = fromFeet / toFactor\n",
    "\n",
    "    return result\n",
    "\n",
    "\n",
    "dict = getDict()\n",
    "print(dict)\n",
    "print(dict.keys())\n",
    "\n",
    "value = 40\n",
    "fromUnit = \"inch\"\n",
    "toUnit = \"meter\"\n",
    "\n",
    "result = exchange(dict, value, fromUnit, toUnit)\n",
    "print(value, fromUnit, result, toUnit)"
   ]
  }
 ],
 "metadata": {
  "kernelspec": {
   "display_name": "python311",
   "language": "python",
   "name": "python3"
  },
  "language_info": {
   "codemirror_mode": {
    "name": "ipython",
    "version": 3
   },
   "file_extension": ".py",
   "mimetype": "text/x-python",
   "name": "python",
   "nbconvert_exporter": "python",
   "pygments_lexer": "ipython3",
   "version": "3.11.4"
  },
  "orig_nbformat": 4
 },
 "nbformat": 4,
 "nbformat_minor": 2
}
