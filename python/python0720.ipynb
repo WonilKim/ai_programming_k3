{
 "cells": [
  {
   "cell_type": "code",
   "execution_count": 1,
   "metadata": {},
   "outputs": [],
   "source": [
    "def print_numbers(*args):\n",
    "    for arg in args:\n",
    "        print(arg)\n"
   ]
  },
  {
   "cell_type": "code",
   "execution_count": 2,
   "metadata": {},
   "outputs": [
    {
     "name": "stdout",
     "output_type": "stream",
     "text": [
      "10\n"
     ]
    }
   ],
   "source": [
    "x = [10]\n",
    "print_numbers(*x)"
   ]
  },
  {
   "cell_type": "code",
   "execution_count": 3,
   "metadata": {},
   "outputs": [
    {
     "name": "stdout",
     "output_type": "stream",
     "text": [
      "10\n",
      "20\n",
      "30\n",
      "40\n"
     ]
    }
   ],
   "source": [
    "y = [10, 20, 30, 40]\n",
    "print_numbers(*y)"
   ]
  },
  {
   "cell_type": "code",
   "execution_count": 4,
   "metadata": {},
   "outputs": [],
   "source": [
    "def personal_info(name, age, address):\n",
    "     print('이름: ', name)\n",
    "     print('나이: ', age)\n",
    "     print('주소: ', address)\n"
   ]
  },
  {
   "cell_type": "markdown",
   "metadata": {},
   "source": [
    "### 딕셔너리 언패킹"
   ]
  },
  {
   "cell_type": "code",
   "execution_count": 5,
   "metadata": {},
   "outputs": [
    {
     "name": "stdout",
     "output_type": "stream",
     "text": [
      "이름:  홍길동\n",
      "나이:  30\n",
      "주소:  서울시 용산구 이촌동\n"
     ]
    }
   ],
   "source": [
    "x = {'name': '홍길동', 'age': 30, 'address': '서울시 용산구 이촌동'}\n",
    "personal_info(**x)"
   ]
  },
  {
   "cell_type": "code",
   "execution_count": 6,
   "metadata": {},
   "outputs": [
    {
     "name": "stdout",
     "output_type": "stream",
     "text": [
      "이름:  name\n",
      "나이:  age\n",
      "주소:  address\n"
     ]
    }
   ],
   "source": [
    "personal_info(*x)"
   ]
  },
  {
   "cell_type": "code",
   "execution_count": 7,
   "metadata": {},
   "outputs": [
    {
     "name": "stdout",
     "output_type": "stream",
     "text": [
      "0\n",
      "1\n",
      "2\n",
      "3\n",
      "4\n"
     ]
    }
   ],
   "source": [
    "class Counter:\n",
    "    def __init__(self, stop):\n",
    "        self._current = 0\n",
    "        self._stop = stop\n",
    "\n",
    "    def __iter__(self):\n",
    "        return self\n",
    "    \n",
    "    def __next__(self):\n",
    "        if self._current < self._stop:\n",
    "            r = self._current\n",
    "            self._current += 1\n",
    "            return r\n",
    "        else:\n",
    "            raise StopIteration\n",
    "        \n",
    "for i in Counter(5):\n",
    "    print(i)"
   ]
  },
  {
   "cell_type": "code",
   "execution_count": 12,
   "metadata": {},
   "outputs": [
    {
     "name": "stdout",
     "output_type": "stream",
     "text": [
      "1\n",
      "2\n",
      "짝\n",
      "4\n",
      "5\n",
      "짝\n",
      "7\n",
      "8\n",
      "짝\n",
      "짝\n",
      "11\n",
      "12\n",
      "짝\n",
      "14\n",
      "15\n",
      "짝\n",
      "17\n",
      "18\n",
      "짝\n",
      "짝\n",
      "21\n",
      "22\n",
      "짝\n",
      "24\n"
     ]
    }
   ],
   "source": [
    "class Counter:\n",
    "    def __init__(self, *args):\n",
    "\n",
    "        if len(args) == 1:\n",
    "            self._current = 0\n",
    "            self._stop = args[0]\n",
    "            self._interval = 1\n",
    "        elif len(args) == 2:\n",
    "            self._current = args[0]\n",
    "            self._stop = args[1]\n",
    "            self._interval = 1\n",
    "        elif len(args) == 3:\n",
    "            self._current = args[0]\n",
    "            self._stop = args[1]\n",
    "            self._interval = args[2]\n",
    "        else:\n",
    "            raise NotImplemented\n",
    "\n",
    "    def __iter__(self):\n",
    "        return self\n",
    "    \n",
    "    def __next__(self):\n",
    "        if self._current < self._stop:\n",
    "            r = self._current\n",
    "            self._current += self._interval\n",
    "            return r\n",
    "        else:\n",
    "            raise StopIteration\n",
    "        \n",
    "# for i in Counter(5):\n",
    "#     print(i)\n",
    "\n",
    "# for i in Counter(2, 5):\n",
    "#     print(i)\n",
    "\n",
    "for i in Counter(1, 25, 1):\n",
    "    if (i % 10 % 3 == 0):\n",
    "        print(\"짝\")\n",
    "    else:\n",
    "        print(i)\n"
   ]
  },
  {
   "cell_type": "markdown",
   "metadata": {},
   "source": [
    "https://dojang.io/mod/page/view.php?id=2407"
   ]
  },
  {
   "cell_type": "code",
   "execution_count": 13,
   "metadata": {},
   "outputs": [
    {
     "name": "stdout",
     "output_type": "stream",
     "text": [
      "0 1 2\n",
      "0 1 2 "
     ]
    }
   ],
   "source": [
    "class Counter:\n",
    "    def __init__(self, stop):\n",
    "        self.stop = stop\n",
    " \n",
    "    def __getitem__(self, index):\n",
    "        if index < self.stop:\n",
    "            return index\n",
    "        else:\n",
    "            raise IndexError\n",
    " \n",
    "print(Counter(3)[0], Counter(3)[1], Counter(3)[2])\n",
    " \n",
    "for i in Counter(3):\n",
    "    print(i, end=' ')"
   ]
  },
  {
   "cell_type": "markdown",
   "metadata": {},
   "source": [
    "### 데코레이터"
   ]
  },
  {
   "cell_type": "code",
   "execution_count": 14,
   "metadata": {},
   "outputs": [
    {
     "name": "stdout",
     "output_type": "stream",
     "text": [
      "hello 함수 시작\n",
      "hello\n",
      "hello 함수 끝\n",
      "world 함수 시작\n",
      "world\n",
      "world 함수 끝\n"
     ]
    }
   ],
   "source": [
    "def trace(func):                             # 호출할 함수를 매개변수로 받음\n",
    "    def wrapper():                           # 호출할 함수를 감싸는 함수\n",
    "        print(func.__name__, '함수 시작')    # __name__으로 함수 이름 출력\n",
    "        func()                               # 매개변수로 받은 함수를 호출\n",
    "        print(func.__name__, '함수 끝')\n",
    "    return wrapper                           # wrapper 함수 반환\n",
    " \n",
    "def hello():\n",
    "    print('hello')\n",
    " \n",
    "def world():\n",
    "    print('world')\n",
    " \n",
    "trace_hello = trace(hello)    # 데코레이터에 호출할 함수를 넣음\n",
    "trace_hello()                 # 반환된 함수를 호출\n",
    "trace_world = trace(world)    # 데코레이터에 호출할 함수를 넣음\n",
    "trace_world()                 # 반환된 함수를 호출"
   ]
  },
  {
   "cell_type": "code",
   "execution_count": 15,
   "metadata": {},
   "outputs": [
    {
     "name": "stdout",
     "output_type": "stream",
     "text": [
      "hello 함수 시작\n",
      "hello\n",
      "hello 함수 끝\n",
      "world 함수 시작\n",
      "world\n",
      "world 함수 끝\n"
     ]
    }
   ],
   "source": [
    "def trace(func):                             # 호출할 함수를 매개변수로 받음\n",
    "    def wrapper():\n",
    "        print(func.__name__, '함수 시작')    # __name__으로 함수 이름 출력\n",
    "        func()                               # 매개변수로 받은 함수를 호출\n",
    "        print(func.__name__, '함수 끝')\n",
    "    return wrapper                           # wrapper 함수 반환\n",
    " \n",
    "@trace    # @데코레이터\n",
    "def hello():\n",
    "    print('hello')\n",
    " \n",
    "@trace    # @데코레이터\n",
    "def world():\n",
    "    print('world')\n",
    " \n",
    "hello()    # 함수를 그대로 호출\n",
    "world()    # 함수를 그대로 호출"
   ]
  },
  {
   "cell_type": "code",
   "execution_count": 16,
   "metadata": {},
   "outputs": [
    {
     "name": "stdout",
     "output_type": "stream",
     "text": [
      "decorator1\n",
      "decorator2\n",
      "hello\n"
     ]
    }
   ],
   "source": [
    "def decorator1(func):\n",
    "    def wrapper():\n",
    "        print('decorator1')\n",
    "        func()\n",
    "    return wrapper\n",
    " \n",
    "def decorator2(func):\n",
    "    def wrapper():\n",
    "        print('decorator2')\n",
    "        func()\n",
    "    return wrapper\n",
    " \n",
    "# 데코레이터를 여러 개 지정\n",
    "@decorator1\n",
    "@decorator2\n",
    "def hello():\n",
    "    print('hello')\n",
    " \n",
    "hello()"
   ]
  },
  {
   "cell_type": "code",
   "execution_count": 17,
   "metadata": {},
   "outputs": [
    {
     "name": "stdout",
     "output_type": "stream",
     "text": [
      "add(a=10, b=20) -> 30\n",
      "30\n"
     ]
    }
   ],
   "source": [
    "def trace(func):          # 호출할 함수를 매개변수로 받음\n",
    "    def wrapper(a, b):    # 호출할 함수 add(a, b)의 매개변수와 똑같이 지정\n",
    "        r = func(a, b)    # func에 매개변수 a, b를 넣어서 호출하고 반환값을 변수에 저장\n",
    "        print('{0}(a={1}, b={2}) -> {3}'.format(func.__name__, a, b, r))  # 매개변수와 반환값 출력\n",
    "        return r          # func의 반환값을 반환\n",
    "    return wrapper        # wrapper 함수 반환\n",
    " \n",
    "@trace              # @데코레이터\n",
    "def add(a, b):      # 매개변수는 두 개\n",
    "    return a + b    # 매개변수 두 개를 더해서 반환\n",
    " \n",
    "print(add(10, 20))"
   ]
  },
  {
   "cell_type": "code",
   "execution_count": 18,
   "metadata": {},
   "outputs": [
    {
     "name": "stdout",
     "output_type": "stream",
     "text": [
      "get_max(args=(10, 20), kwargs={}) -> 20\n",
      "20\n",
      "get_min(args=(), kwargs={'x': 10, 'y': 20, 'z': 30}) -> 10\n",
      "10\n"
     ]
    }
   ],
   "source": [
    "def trace(func):                     # 호출할 함수를 매개변수로 받음\n",
    "    def wrapper(*args, **kwargs):    # 가변 인수 함수로 만듦\n",
    "        r = func(*args, **kwargs)    # func에 args, kwargs를 언패킹하여 넣어줌\n",
    "        print('{0}(args={1}, kwargs={2}) -> {3}'.format(func.__name__, args, kwargs, r))\n",
    "                                     # 매개변수와 반환값 출력\n",
    "        return r                     # func의 반환값을 반환\n",
    "    return wrapper                   # wrapper 함수 반환\n",
    " \n",
    "@trace                   # @데코레이터\n",
    "def get_max(*args):      # 위치 인수를 사용하는 가변 인수 함수\n",
    "    return max(args)\n",
    " \n",
    "@trace                   # @데코레이터\n",
    "def get_min(**kwargs):   # 키워드 인수를 사용하는 가변 인수 함수\n",
    "    return min(kwargs.values())\n",
    " \n",
    "print(get_max(10, 20))\n",
    "print(get_min(x=10, y=20, z=30))"
   ]
  },
  {
   "cell_type": "code",
   "execution_count": 19,
   "metadata": {},
   "outputs": [
    {
     "name": "stdout",
     "output_type": "stream",
     "text": [
      "add의 반환값은 3의 배수입니다.\n",
      "30\n",
      "add의 반환값은 3의 배수가 아닙니다.\n",
      "7\n"
     ]
    }
   ],
   "source": [
    "def is_multiple(x):              # 데코레이터가 사용할 매개변수를 지정\n",
    "    def real_decorator(func):    # 호출할 함수를 매개변수로 받음\n",
    "        def wrapper(a, b):       # 호출할 함수의 매개변수와 똑같이 지정\n",
    "            r = func(a, b)       # func를 호출하고 반환값을 변수에 저장\n",
    "            if r % x == 0:       # func의 반환값이 x의 배수인지 확인\n",
    "                print('{0}의 반환값은 {1}의 배수입니다.'.format(func.__name__, x))\n",
    "            else:\n",
    "                print('{0}의 반환값은 {1}의 배수가 아닙니다.'.format(func.__name__, x))\n",
    "            return r             # func의 반환값을 반환\n",
    "        return wrapper           # wrapper 함수 반환\n",
    "    return real_decorator        # real_decorator 함수 반환\n",
    " \n",
    "@is_multiple(3)     # @데코레이터(인수)\n",
    "def add(a, b):\n",
    "    return a + b\n",
    " \n",
    "print(add(10, 20))\n",
    "print(add(2, 5))"
   ]
  },
  {
   "cell_type": "markdown",
   "metadata": {},
   "source": [
    "### 로깅"
   ]
  },
  {
   "cell_type": "code",
   "execution_count": 20,
   "metadata": {},
   "outputs": [],
   "source": [
    "import logging\n",
    "\n",
    "def hap(a, b):\n",
    "    ret = a + b\n",
    "    logging.info(f\"input: {a} {b}, output={ret}\")\n",
    "    return ret\n",
    "\n",
    "result = hap(3, 4)"
   ]
  },
  {
   "cell_type": "code",
   "execution_count": 21,
   "metadata": {},
   "outputs": [],
   "source": [
    "import logging\n",
    "\n",
    "logging.basicConfig(level=logging.INFO)\n",
    "\n",
    "def hap(a, b):\n",
    "    ret = a + b\n",
    "    logging.info(f\"input: {a} {b}, output={ret}\")\n",
    "    return ret\n",
    "\n",
    "result = hap(3, 4)"
   ]
  },
  {
   "cell_type": "code",
   "execution_count": 1,
   "metadata": {},
   "outputs": [],
   "source": [
    "import logging\n",
    "\n",
    "logging.basicConfig(filename=\"mylog.txt\", level=logging.INFO)\n",
    "\n",
    "def hap(a, b):\n",
    "    ret = a + b\n",
    "    logging.info(f\"input: {a} {b}, output={ret}\")\n",
    "    return ret\n",
    "\n",
    "result = hap(3, 4)"
   ]
  },
  {
   "cell_type": "markdown",
   "metadata": {},
   "source": [
    "### 멀티 프로세싱"
   ]
  },
  {
   "cell_type": "code",
   "execution_count": 2,
   "metadata": {},
   "outputs": [
    {
     "name": "stdout",
     "output_type": "stream",
     "text": [
      "MainProcess\n",
      "6060\n"
     ]
    }
   ],
   "source": [
    "import multiprocessing as mp\n",
    "\n",
    "\n",
    "if __name__ == \"__main__\":\n",
    "    proc = mp.current_process()\n",
    "    print(proc.name)\n",
    "    print(proc.pid)"
   ]
  },
  {
   "cell_type": "code",
   "execution_count": 4,
   "metadata": {},
   "outputs": [],
   "source": [
    "import multiprocessing as mp\n",
    "\n",
    "def worker():\n",
    "    print(\"SubProcess End\")\n",
    "\n",
    "\n",
    "if __name__ == \"__main__\":\n",
    "    # process spawning\n",
    "    p = mp.Process(name=\"SubProcess\", target=worker)\n",
    "    p.start()"
   ]
  },
  {
   "cell_type": "code",
   "execution_count": 3,
   "metadata": {},
   "outputs": [
    {
     "name": "stdout",
     "output_type": "stream",
     "text": [
      "MainProcess\n",
      "6060\n",
      "MainProcess End\n"
     ]
    }
   ],
   "source": [
    "import multiprocessing as mp\n",
    "import time\n",
    "\n",
    "def worker():\n",
    "    proc = mp.current_process()\n",
    "    print(proc.name)\n",
    "    print(proc.pid)\n",
    "    time.sleep(5)\n",
    "    print(\"SubProcess End\")\n",
    "\n",
    "\n",
    "if __name__ == \"__main__\":\n",
    "    # main process\n",
    "    proc = mp.current_process()\n",
    "    print(proc.name)\n",
    "    print(proc.pid)\n",
    "\n",
    "    # process spawning\n",
    "    p = mp.Process(name=\"SubProcess\", target=worker)\n",
    "    p.start()\n",
    "\n",
    "    print(\"MainProcess End\")"
   ]
  },
  {
   "cell_type": "code",
   "execution_count": 5,
   "metadata": {},
   "outputs": [],
   "source": [
    "from multiprocessing import Pool\n",
    "\n",
    "\n",
    "def work(x):\n",
    "    print(x)\n",
    "\n",
    "\n",
    "if __name__ == \"__main__\":\n",
    "    pool = Pool(4)\n",
    "    data = range(1, 100)\n",
    "    pool.map(work, data)"
   ]
  }
 ],
 "metadata": {
  "kernelspec": {
   "display_name": "python311",
   "language": "python",
   "name": "python3"
  },
  "language_info": {
   "codemirror_mode": {
    "name": "ipython",
    "version": 3
   },
   "file_extension": ".py",
   "mimetype": "text/x-python",
   "name": "python",
   "nbconvert_exporter": "python",
   "pygments_lexer": "ipython3",
   "version": "3.11.4"
  },
  "orig_nbformat": 4
 },
 "nbformat": 4,
 "nbformat_minor": 2
}
