{
 "cells": [
  {
   "cell_type": "code",
   "execution_count": 1,
   "metadata": {},
   "outputs": [
    {
     "name": "stdout",
     "output_type": "stream",
     "text": [
      "J B, J G, A K, D R\n"
     ]
    }
   ],
   "source": [
    "names = [\"D R\", \"A K\", \"J B\", \"J G\"]\n",
    "names.sort(key=lambda name: name.split()[-1])\n",
    "nameString = \", \".join(names)\n",
    "print(nameString)"
   ]
  },
  {
   "cell_type": "markdown",
   "metadata": {},
   "source": [
    "26. Count Function Suppose the count function for a string didn’t exist. Define\n",
    "a function that returns the number of non-overlapping occurrences of a\n",
    "substring in a string."
   ]
  },
  {
   "cell_type": "code",
   "execution_count": 5,
   "metadata": {},
   "outputs": [
    {
     "name": "stdout",
     "output_type": "stream",
     "text": [
      "{'r', 'g', 'i', 's', 't', ' ', 'e', 'n', 'T'}\n"
     ]
    }
   ],
   "source": [
    "def countCharacters(string):\n",
    "    charSet = set()\n",
    "    for i in range(len(string)):\n",
    "        charSet.add(string[i])\n",
    "\n",
    "    return charSet\n",
    "\n",
    "#\n",
    "string = \"Test string\"\n",
    "s = countCharacters(string)\n",
    "print(s)"
   ]
  },
  {
   "cell_type": "code",
   "execution_count": 18,
   "metadata": {},
   "outputs": [
    {
     "name": "stdout",
     "output_type": "stream",
     "text": [
      "0\n"
     ]
    }
   ],
   "source": [
    "def countSubstring(string, sub):\n",
    "    count = 0\n",
    "    s = string[:]\n",
    "    n = s.find(sub)\n",
    "    while -1 < n:\n",
    "        count += 1\n",
    "\n",
    "        s = s[n+1:]\n",
    "        n = s.find(sub)\n",
    "\n",
    "    return count\n",
    "\n",
    "\n",
    "#\n",
    "string = \"ababa\"\n",
    "\n",
    "result = countSubstring(string, \"ttt\")\n",
    "print(result)"
   ]
  },
  {
   "cell_type": "markdown",
   "metadata": {},
   "source": [
    "30. Pay Raise : Write a pay-raise program that requests a person’s first name, last name, and current annual salary, and then displays the person’s salary for next year. People earning less than $40,000 will receive a 5% raise, and those earning $40,000 or more will receive a raise of $2,000 plus 2% of the amount over $40,000. Use functions for input and output, and a function to calculate the new salary."
   ]
  },
  {
   "cell_type": "code",
   "execution_count": 7,
   "metadata": {},
   "outputs": [
    {
     "name": "stdout",
     "output_type": "stream",
     "text": [
      "31500.0\n",
      "103200.0\n"
     ]
    }
   ],
   "source": [
    "def payRaise(firstName, lastName, currentPay):\n",
    "    newPay = 0\n",
    "    if currentPay < 40000:\n",
    "        newPay = currentPay + (currentPay / 100 * 5)\n",
    "    else:\n",
    "        newPay = currentPay + 2000 + ((currentPay - 40000) / 100 * 2)\n",
    "\n",
    "    return newPay\n",
    "\n",
    "newPay = payRaise(\"Wonil\", \"Kim\", 30000)\n",
    "print(newPay)\n",
    "\n",
    "newPay = payRaise(\"Wonil\", \"Kim\", 100000)\n",
    "print(newPay)"
   ]
  }
 ],
 "metadata": {
  "kernelspec": {
   "display_name": "base",
   "language": "python",
   "name": "python3"
  },
  "language_info": {
   "codemirror_mode": {
    "name": "ipython",
    "version": 3
   },
   "file_extension": ".py",
   "mimetype": "text/x-python",
   "name": "python",
   "nbconvert_exporter": "python",
   "pygments_lexer": "ipython3",
   "version": "3.9.13"
  },
  "orig_nbformat": 4
 },
 "nbformat": 4,
 "nbformat_minor": 2
}
